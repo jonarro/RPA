{
 "cells": [
  {
   "cell_type": "code",
   "execution_count": 2,
   "metadata": {},
   "outputs": [],
   "source": [
    "from concurrent.futures import ThreadPoolExecutor\n",
    "from selenium import webdriver\n",
    "from bs4 import BeautifulSoup\n",
    "import csv\n",
    "paginas =['https://books.toscrape.com/catalogue/page-1.html','https://books.toscrape.com/catalogue/page-2.html','https://books.toscrape.com/catalogue/page-3.html','https://books.toscrape.com/catalogue/page-4.html']\n",
    "\n",
    "def get_titles(url):\n",
    "    driver = webdriver.Chrome(\"C:\\\\Users\\\\urieh\\\\Documents\\\\FORTE\\\\META\\\\chromedriver-win64\\\\chromedriver.exe\")\n",
    "    driver.get(url)\n",
    "    html = driver.page_source\n",
    "    soup = BeautifulSoup(html, 'lxml')\n",
    "    titles = [title.text for title in soup.find_all('h3')]\n",
    "    driver.quit()\n",
    "    return titles\n",
    "\n",
    "def save_to_csv(data):\n",
    "    with open('books.csv', 'a', newline='', encoding='utf-8') as file:\n",
    "        writer = csv.writer(file)\n",
    "        for i, title in enumerate(data,start=1):\n",
    "            writer.writerow([i, title])\n",
    "\n",
    "def main():\n",
    "    with ThreadPoolExecutor(max_workers=5) as executor:\n",
    "        results = list(executor.map(get_titles, paginas))\n",
    "\n",
    "    for titles in results:\n",
    "        save_to_csv(titles)\n",
    "\n",
    "if __name__ == '__main__':\n",
    "    main()"
   ]
  }
 ],
 "metadata": {
  "kernelspec": {
   "display_name": "Python 3",
   "language": "python",
   "name": "python3"
  },
  "language_info": {
   "codemirror_mode": {
    "name": "ipython",
    "version": 3
   },
   "file_extension": ".py",
   "mimetype": "text/x-python",
   "name": "python",
   "nbconvert_exporter": "python",
   "pygments_lexer": "ipython3",
   "version": "3.9.13"
  },
  "orig_nbformat": 4
 },
 "nbformat": 4,
 "nbformat_minor": 2
}
